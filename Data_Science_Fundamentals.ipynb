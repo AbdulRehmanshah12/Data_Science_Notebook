{
 "cells": [
  {
   "cell_type": "markdown",
   "id": "75439fac-50b8-4a58-b9c4-444dab856728",
   "metadata": {},
   "source": [
    "# Data Science Fundamentals"
   ]
  },
  {
   "cell_type": "markdown",
   "id": "539f4421-6981-4c28-a3a9-2d933cbf44c7",
   "metadata": {},
   "source": [
    "- This notebook introduces important tools and concepts in data science."
   ]
  },
  {
   "cell_type": "markdown",
   "id": "59452e7a-2add-4ceb-9357-53cf559de581",
   "metadata": {},
   "source": [
    "1. Python  \n",
    "2. R  \n",
    "3. SQL  "
   ]
  },
  {
   "cell_type": "markdown",
   "id": "31af4c86-5699-43d1-9eed-754d58ebc459",
   "metadata": {},
   "source": [
    "1. Pandas  \n",
    "2. Numpy  \n",
    "3. Matplotlib  \n"
   ]
  },
  {
   "cell_type": "markdown",
   "id": "754273d3-f32f-45c1-b6bb-75fe7d5e48c6",
   "metadata": {},
   "source": [
    "| Tool           | Description           |  \n",
    "|----------------|-----------------------|  \n",
    "| Jupyter Notebook | Interactive coding environment |  \n",
    "| RStudio        | IDE for R programming |  \n",
    "| Tableau        | Data visualization tool |  \n"
   ]
  },
  {
   "cell_type": "markdown",
   "id": "411abef0-5492-4d69-aaff-7191fdf0c00f",
   "metadata": {},
   "source": [
    "- Arithmetic expressions are used to perform calculations like addition and multiplication"
   ]
  },
  {
   "cell_type": "code",
   "execution_count": 2,
   "id": "0f8b8813-a6b5-4d31-bf5f-58f04654d887",
   "metadata": {},
   "outputs": [
    {
     "name": "stdout",
     "output_type": "stream",
     "text": [
      "17\n"
     ]
    }
   ],
   "source": [
    "result = (3 * 4) + 5\n",
    "print(result)"
   ]
  },
  {
   "cell_type": "code",
   "execution_count": 3,
   "id": "ec538118-f72c-4a9d-a04f-1548c746e015",
   "metadata": {},
   "outputs": [
    {
     "name": "stdout",
     "output_type": "stream",
     "text": [
      "3.0\n"
     ]
    }
   ],
   "source": [
    "minutes = 180\n",
    "hours = minutes / 60\n",
    "print(hours)"
   ]
  },
  {
   "cell_type": "markdown",
   "id": "5bf444a0-84f4-4dcb-8482-f42d869ff23d",
   "metadata": {},
   "source": [
    "- Learn about data science tools and libraries.  \n",
    "- Practice coding in Python.  \n",
    "- Understand basic arithmetic operations.  \n"
   ]
  },
  {
   "cell_type": "markdown",
   "id": "ba976611-819c-4967-85c8-894f84f1d175",
   "metadata": {},
   "source": [
    "**Author:** Muhammad Abdul Rehman Shah"
   ]
  },
  {
   "cell_type": "code",
   "execution_count": null,
   "id": "08e9cd2c-c210-4f0c-b419-8c1628a2e74f",
   "metadata": {},
   "outputs": [],
   "source": []
  }
 ],
 "metadata": {
  "kernelspec": {
   "display_name": "Python 3 (ipykernel)",
   "language": "python",
   "name": "python3"
  },
  "language_info": {
   "codemirror_mode": {
    "name": "ipython",
    "version": 3
   },
   "file_extension": ".py",
   "mimetype": "text/x-python",
   "name": "python",
   "nbconvert_exporter": "python",
   "pygments_lexer": "ipython3",
   "version": "3.12.7"
  }
 },
 "nbformat": 4,
 "nbformat_minor": 5
}
